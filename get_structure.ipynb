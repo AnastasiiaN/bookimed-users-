{
 "cells": [
  {
   "cell_type": "code",
   "execution_count": 1,
   "metadata": {
    "collapsed": true
   },
   "outputs": [],
   "source": [
    "import json\n",
    "import pandas as pd"
   ]
  },
  {
   "cell_type": "code",
   "execution_count": 6,
   "metadata": {
    "collapsed": true
   },
   "outputs": [],
   "source": [
    "file_name = 'short_bookimed.json'"
   ]
  },
  {
   "cell_type": "code",
   "execution_count": null,
   "metadata": {
    "collapsed": false,
    "scrolled": true
   },
   "outputs": [],
   "source": [
    "### get fields of event for type 2, type 3 and for events of type 2\n",
    "type_2 = []\n",
    "type_3 = []\n",
    "event_0 = []\n",
    "event_1 = []\n",
    "event_2 = []\n",
    "event_3 = []\n",
    "events = [event_0, event_1, event_2, event_3]\n",
    "with open(file_name) as f:\n",
    "    for line in f:\n",
    "        line = line.rstrip()\n",
    "        x = json.loads(line)\n",
    "        if int(x['type']) == 2:\n",
    "            for i in x.keys(): \n",
    "                if i not in type_2: type_2.append(i)\n",
    "            event = int(x['event'])\n",
    "            for i in x.keys(): \n",
    "                if i not in events[event]: events[event].append(i)\n",
    "        if int(x['type']) == 3:\n",
    "            for i in x.keys(): \n",
    "                if i not in type_3: type_3.append(i)\n",
    "print type_2\n",
    "print type_3\n",
    "print events"
   ]
  }
 ],
 "metadata": {
  "kernelspec": {
   "display_name": "Python 2",
   "language": "python",
   "name": "python2"
  },
  "language_info": {
   "codemirror_mode": {
    "name": "ipython",
    "version": 2
   },
   "file_extension": ".py",
   "mimetype": "text/x-python",
   "name": "python",
   "nbconvert_exporter": "python",
   "pygments_lexer": "ipython2",
   "version": "2.7.6"
  }
 },
 "nbformat": 4,
 "nbformat_minor": 0
}
