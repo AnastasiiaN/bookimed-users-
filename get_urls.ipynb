{
 "cells": [
  {
   "cell_type": "code",
   "execution_count": 74,
   "metadata": {
    "collapsed": false
   },
   "outputs": [],
   "source": [
    "import pandas as pd"
   ]
  },
  {
   "cell_type": "code",
   "execution_count": 85,
   "metadata": {
    "collapsed": false
   },
   "outputs": [],
   "source": [
    "text_file = open(\"urls.txt\", \"r\")\n",
    "lines = text_file.readlines()"
   ]
  },
  {
   "cell_type": "code",
   "execution_count": 86,
   "metadata": {
    "collapsed": false
   },
   "outputs": [],
   "source": [
    "url = [line.split('//') for line in lines]\n",
    "url_ = []\n",
    "for i in range(len(url)):\n",
    "    try:\n",
    "        url_.append(url[i][1].split('/'))\n",
    "    except: er.append(i)"
   ]
  },
  {
   "cell_type": "code",
   "execution_count": 87,
   "metadata": {
    "collapsed": false
   },
   "outputs": [],
   "source": [
    "res = [line[0] for line in url_]\n",
    "res = [line.lower() for line in res]"
   ]
  },
  {
   "cell_type": "code",
   "execution_count": 88,
   "metadata": {
    "collapsed": false
   },
   "outputs": [],
   "source": [
    "unique_url = list(set(res))\n",
    "stat = {}\n",
    "for i in unique_url:\n",
    "    count = 0\n",
    "    for j in range(len(res)):\n",
    "        if res[j] == i: count += 1\n",
    "    stat[i] = count"
   ]
  },
  {
   "cell_type": "code",
   "execution_count": 89,
   "metadata": {
    "collapsed": true
   },
   "outputs": [
    {
     "data": {
      "text/plain": [
       "{'': 4211,\n",
       " '111.221.29.49': 1,\n",
       " '131.253.14.125': 9,\n",
       " '176.9.106.7': 2,\n",
       " '65.55.108.4': 15,\n",
       " 'bookimed.com': 361635,\n",
       " 'bookimed.com.': 8,\n",
       " 'bookimed.dev': 2809,\n",
       " 'bookimed.dev:82': 1,\n",
       " 'bookimed.dev:83': 22,\n",
       " 'bookimed.dev:86': 15,\n",
       " 'com.sec.android.app.sbrowser.scraplist': 8,\n",
       " 'eh.obbxvzrq.pbz.r.ru.a2ip.ru': 14,\n",
       " 'en.bookimed.dev': 192,\n",
       " 'fonts4web.ru': 1,\n",
       " 'frontend.bookimed.dev': 2,\n",
       " 'googleads.g.doubleclick.net': 8,\n",
       " 'hghltd.yandex.net': 199,\n",
       " 'localhost': 15,\n",
       " 'mtproxy.yandex.net': 196,\n",
       " 'nova.rambler.ru': 1,\n",
       " 'ru.bookimed.com': 997325,\n",
       " 'ru.bookimed.com.': 70,\n",
       " 'ru.bookimed.dev': 7338,\n",
       " 'server5.kproxy.com': 3,\n",
       " 'server6.kproxy.com': 8,\n",
       " 'static.7.106.9.176.clients.your-server.de': 719,\n",
       " 'translate.googleusercontent.com': 1076,\n",
       " 'unmht': 2,\n",
       " 'vk.com': 7,\n",
       " 'wap.kyivstar.ua': 1,\n",
       " 'wbms.yandex.net': 4,\n",
       " 'web.archive.org': 2,\n",
       " 'webcache.googleusercontent.com': 368,\n",
       " 'www.google.ae': 1,\n",
       " 'www.google.com.ua': 1,\n",
       " 'www.google.fi': 1,\n",
       " 'www.google.lv': 1,\n",
       " 'www.googleadservices.com': 19,\n",
       " 'www.siteliner.com': 1,\n",
       " 'z5h64q92x9.net': 2}"
      ]
     },
     "execution_count": 89,
     "metadata": {},
     "output_type": "execute_result"
    }
   ],
   "source": [
    "mtproxy = 0\n",
    "new_stat = {}\n",
    "for k,v in stat.iteritems():\n",
    "    if 'mtproxy' in k: mtproxy += v\n",
    "    else: new_stat[k] = v\n",
    "new_stat['mtproxy.yandex.net'] = mtproxy\n",
    "new_stat"
   ]
  }
 ],
 "metadata": {
  "kernelspec": {
   "display_name": "Python 2",
   "language": "python",
   "name": "python2"
  },
  "language_info": {
   "codemirror_mode": {
    "name": "ipython",
    "version": 2
   },
   "file_extension": ".py",
   "mimetype": "text/x-python",
   "name": "python",
   "nbconvert_exporter": "python",
   "pygments_lexer": "ipython2",
   "version": "2.7.6"
  }
 },
 "nbformat": 4,
 "nbformat_minor": 0
}
