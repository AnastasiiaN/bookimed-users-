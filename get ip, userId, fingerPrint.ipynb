{
 "cells": [
  {
   "cell_type": "code",
   "execution_count": 2,
   "metadata": {
    "collapsed": true
   },
   "outputs": [],
   "source": [
    "import pandas as pd\n",
    "import json\n",
    "import glob\n",
    "import csv\n",
    "import os"
   ]
  },
  {
   "cell_type": "code",
   "execution_count": null,
   "metadata": {
    "collapsed": false,
    "scrolled": false
   },
   "outputs": [],
   "source": [
    "### csv with counts of unique ip, userId, fingerPrint for each anon. id file\n",
    "\n",
    "files = [os.path.basename(x) for x in glob.glob('./users/*.json')]\n",
    "print \"ok\"\n",
    "unique = []\n",
    "for file_name in files:\n",
    "    f = open('./users/%s'%file_name)\n",
    "    context = f.readlines()\n",
    "    data = []\n",
    "    for i in context[1:]:\n",
    "        data += [json.loads(i.replace(',\\n','').replace('\\n',''))]\n",
    "    ip = []\n",
    "    userId = []\n",
    "    fingerPrint = []\n",
    "    for i in data: \n",
    "        keys = i.keys()\n",
    "        if 'ip' in keys: ip.append(i['ip'])\n",
    "        if 'userId' in keys: userId.append(i['userId'])\n",
    "        if 'fingerPrint' in keys: fingerPrint.append(i['fingerPrint'])\n",
    "    unique.append([len(set(i)) for i in [ip, userId, fingerPrint]])  \n",
    "\n",
    "data = pd.DataFrame.from_records(unique, columns=['ip', 'userId', 'fingerPrint'])\n",
    "data.to_csv('anon_id_stats.csv')"
   ]
  },
  {
   "cell_type": "code",
   "execution_count": 27,
   "metadata": {
    "collapsed": false
   },
   "outputs": [],
   "source": [
    "### count how many files have how many unique ip (ip-count  -  files- count)\n",
    "\n",
    "stat = pd.DataFrame(columns=['ip', 'userId', 'fingerPrint'])\n",
    "data.groupby('ip').count().to_csv('ip.csv')"
   ]
  },
  {
   "cell_type": "code",
   "execution_count": null,
   "metadata": {
    "collapsed": false
   },
   "outputs": [],
   "source": [
    "### get names of files that have not more then one unique ip, userId, fingerPrint\n",
    "\n",
    "with open('anon_id_stats.csv', 'rb') as f:\n",
    "    reader = csv.reader(f)\n",
    "    data = list(reader)\n",
    "    \n",
    "for row in data:\n",
    "    del row[0]\n",
    "c = 0\n",
    "new_data = []\n",
    "for i in data[1:]:\n",
    "    if i <= ['1','1','1']: new_data.append('1')\n",
    "    else:\n",
    "        c+=1\n",
    "        new_data.append('0')\n",
    "print len(new_data)\n",
    "out = open('for_me (files to take)','w')\n",
    "c = 0\n",
    "for i in range(len(new_data)):\n",
    "    if int(new_data[i]): \n",
    "        out.write(files[i] +'\\n')\n",
    "        c +=1\n",
    "\n",
    "out.close()"
   ]
  },
  {
   "cell_type": "code",
   "execution_count": null,
   "metadata": {
    "collapsed": false
   },
   "outputs": [],
   "source": [
    "### get files that have more then one event (ready_f - list of files to check)\n",
    "\n",
    "more_than_1_ev = []\n",
    "for k in range(len(ready_f)):\n",
    "    f = open('./users/%s'%ready_f[k])\n",
    "    context = f.readlines()\n",
    "    if len(context) > 2: more_than_1_ev.append(ready_f[k])\n",
    "\n",
    "out = open('more_then_1_ev(2).txt','w')\n",
    "for i in range(len(more_than_1_ev)): \n",
    "    out.write(more_than_1_ev[i] +'\\n')\n",
    "out.close()"
   ]
  }
 ],
 "metadata": {
  "kernelspec": {
   "display_name": "Python 2",
   "language": "python",
   "name": "python2"
  },
  "language_info": {
   "codemirror_mode": {
    "name": "ipython",
    "version": 2
   },
   "file_extension": ".py",
   "mimetype": "text/x-python",
   "name": "python",
   "nbconvert_exporter": "python",
   "pygments_lexer": "ipython2",
   "version": "2.7.6"
  }
 },
 "nbformat": 4,
 "nbformat_minor": 0
}
