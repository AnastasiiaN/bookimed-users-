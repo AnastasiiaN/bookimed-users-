{
 "cells": [
  {
   "cell_type": "code",
   "execution_count": null,
   "metadata": {
    "collapsed": true
   },
   "outputs": [],
   "source": [
    "### input: folder with files, that contain events with unique anonymousId\n",
    "### output: csv with columns: time_interval (in sec), ip (boolean), userId (boolean), fingerPrint (boolean) \n",
    "\n",
    "### P.S. boolean -> 1 if chaged, 0 if not"
   ]
  },
  {
   "cell_type": "code",
   "execution_count": 3,
   "metadata": {
    "collapsed": true
   },
   "outputs": [],
   "source": [
    "import pandas as pd\n",
    "import csv\n",
    "import json\n",
    "import glob\n",
    "import os"
   ]
  },
  {
   "cell_type": "code",
   "execution_count": 70,
   "metadata": {
    "collapsed": false
   },
   "outputs": [
    {
     "name": "stdout",
     "output_type": "stream",
     "text": [
      "ok\n",
      "Ready!\n"
     ]
    }
   ],
   "source": [
    "files = [os.path.basename(x) for x in glob.glob('./users/*.json')]\n",
    "print \"ok\"\n",
    "\n",
    "result_file = \"time_intervals.csv\"\n",
    "with open(result_file, \"wb\") as f:\n",
    "    writer = csv.DictWriter(f, fieldnames = [\"interval (in sec)\", \"ip\", \"userId\", \"fingerPrint\"])\n",
    "    writer.writeheader()\n",
    "\n",
    "for file_name in files:\n",
    "    f = open('./users/%s'%file_name)\n",
    "    context = f.readlines()\n",
    "    if (len(context) -1) > 1:\n",
    "        data = []\n",
    "        for i in context[1:]:\n",
    "            data += [json.loads(i.replace(',\\n','').replace('\\n',''))]\n",
    "        \n",
    "        data = pd.DataFrame.from_records(data)\n",
    "\n",
    "        if 'fingerPrint' not in data.keys(): data['fingerPrint'] = [0 for i in range(data.shape[0])]\n",
    "        data = pd.concat([data['timestamp'], data['ip'], data['userId'], data['fingerPrint']], axis=1)\n",
    "        data['timestamp'] = pd.to_datetime(data['timestamp'])\n",
    "        \n",
    "        sorted_data = data.sort(['timestamp']).values.tolist()\n",
    "        \n",
    "        new_data = []\n",
    "        for i in range(1, len(sorted_data)):\n",
    "            new_data.append([(sorted_data[i][0] - sorted_data[i-1][0]).seconds, 0 if sorted_data[i][1] == sorted_data[i-1][1] else 1,\n",
    "                            0 if sorted_data[i][2] == sorted_data[i-1][2] else 1,\n",
    "                            0 if sorted_data[i][3] == sorted_data[i-1][3] else 1])\n",
    "        \n",
    "        with open(result_file, \"a\") as f:\n",
    "            writer = csv.writer(f)\n",
    "            writer.writerows(new_data)\n",
    "\n",
    "print \"Ready!\""
   ]
  }
 ],
 "metadata": {
  "kernelspec": {
   "display_name": "Python 2",
   "language": "python",
   "name": "python2"
  },
  "language_info": {
   "codemirror_mode": {
    "name": "ipython",
    "version": 2
   },
   "file_extension": ".py",
   "mimetype": "text/x-python",
   "name": "python",
   "nbconvert_exporter": "python",
   "pygments_lexer": "ipython2",
   "version": "2.7.6"
  }
 },
 "nbformat": 4,
 "nbformat_minor": 0
}
