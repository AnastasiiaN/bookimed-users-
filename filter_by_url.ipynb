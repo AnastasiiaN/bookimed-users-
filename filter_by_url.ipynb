{
 "cells": [
  {
   "cell_type": "code",
   "execution_count": 2,
   "metadata": {
    "collapsed": true
   },
   "outputs": [],
   "source": [
    "import os\n",
    "import json\n",
    "import glob"
   ]
  },
  {
   "cell_type": "code",
   "execution_count": 8,
   "metadata": {
    "collapsed": false
   },
   "outputs": [],
   "source": [
    "### get url only from 'bookimed.com', 'ru.bookimed.com'\n",
    "bookimed = ['bookimed.com', 'ru.bookimed.com']\n",
    "url_er = []\n",
    "f = open('filtered_by_url.json', 'w+')\n",
    "with open('short_bookimed.json') as data_file:\n",
    "    for line in data_file:\n",
    "        try:\n",
    "            data = json.loads(line[:-1])\n",
    "            url = data['url'].split('//')[1].split('/')[0].lower()\n",
    "            if url in bookimed: \n",
    "                del data['url']\n",
    "                json.dump(data, f)\n",
    "                f.write('\\n')\n",
    "        except: \n",
    "            url_er.append(data['url'])\n",
    "f.close()"
   ]
  }
 ],
 "metadata": {
  "kernelspec": {
   "display_name": "Python 2",
   "language": "python",
   "name": "python2"
  },
  "language_info": {
   "codemirror_mode": {
    "name": "ipython",
    "version": 2
   },
   "file_extension": ".py",
   "mimetype": "text/x-python",
   "name": "python",
   "nbconvert_exporter": "python",
   "pygments_lexer": "ipython2",
   "version": "2.7.6"
  }
 },
 "nbformat": 4,
 "nbformat_minor": 0
}
